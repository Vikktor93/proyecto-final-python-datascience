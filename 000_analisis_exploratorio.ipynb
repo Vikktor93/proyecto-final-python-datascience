{
 "cells": [
  {
   "cell_type": "markdown",
   "metadata": {},
   "source": [
    "#### **IMPORTACIÓN DE LIBRERÍAS**"
   ]
  },
  {
   "cell_type": "code",
   "execution_count": 1,
   "metadata": {},
   "outputs": [],
   "source": [
    "import numpy as np\n",
    "import pandas as pd\n",
    "import matplotlib.pyplot as plt\n",
    "import seaborn as sns"
   ]
  },
  {
   "cell_type": "markdown",
   "metadata": {},
   "source": [
    "### **PROCESAMIENTO DE LA DATA**"
   ]
  },
  {
   "cell_type": "markdown",
   "metadata": {},
   "source": [
    "##### **INICIALIZANDO DATASET**"
   ]
  },
  {
   "cell_type": "code",
   "execution_count": 6,
   "metadata": {},
   "outputs": [],
   "source": [
    "df = pd.read_csv('./data/videogames-sales.csv')"
   ]
  },
  {
   "cell_type": "markdown",
   "metadata": {},
   "source": [
    "##### **DESCRIPCIÓN DE COLUMNAS**\n",
    "\n",
    "- `Rank`: El ranking del videojuego basado en el volumen de ventas global\n",
    "- `Name`: El nombre del videojuego\n",
    "- `Platform`: La plataforma en la que está disponible el videojuego (PC, PS4, Xbox One, etc)\n",
    "- `Year`: El año en que se lanzo el juego\n",
    "- `Genre`: El género del juego, como acción, aventura, carreras, etc\n",
    "- `Publisher`: La empresa que desarrollo el juego\n",
    "- `NA_Sales`: El número de unidades vendidas en Norteamérica (millones USD)\n",
    "- `EU_Sales`: El número de unidades vendidas en Europa (millones USD)\n",
    "- `JP_Sales`: El número de unidades vendidas en Japón (millones USD)\n",
    "- `Other_Sales`: El número de unidades vendidas en el resto del mundo, excluyendo América del Norte, Europa y Japón (millones USD)\n",
    "- `Global_Sales`: El número total de unidades vendidas en todo el mundo (millones USD)"
   ]
  }
 ],
 "metadata": {
  "kernelspec": {
   "display_name": "Project-Python-DataScience",
   "language": "python",
   "name": "python3"
  },
  "language_info": {
   "codemirror_mode": {
    "name": "ipython",
    "version": 3
   },
   "file_extension": ".py",
   "mimetype": "text/x-python",
   "name": "python",
   "nbconvert_exporter": "python",
   "pygments_lexer": "ipython3",
   "version": "3.12.4"
  }
 },
 "nbformat": 4,
 "nbformat_minor": 2
}
